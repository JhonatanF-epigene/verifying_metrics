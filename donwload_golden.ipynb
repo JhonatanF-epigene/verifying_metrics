{
 "cells": [
  {
   "cell_type": "markdown",
   "metadata": {
    "vscode": {
     "languageId": "plaintext"
    }
   },
   "source": [
    "### This notebook has the objective to download the data from golden zone to specific folders to divide the cohorts"
   ]
  },
  {
   "cell_type": "code",
   "execution_count": null,
   "metadata": {
    "vscode": {
     "languageId": "plaintext"
    }
   },
   "outputs": [],
   "source": [
    "import logging\n",
    "import os\n",
    "import traceback\n",
    "\n",
    "from data_integration_utils.azure_blob_manager import (\n",
    "    ClinicalBronzeBSM,\n",
    "    OmicBronzeBSM,\n",
    ")\n",
    "from dotenv import load_dotenv\n",
    "import load_gene_standardisation_df\n",
    "from utils import (\n",
    "    check_3_files_per_sample_prefix,\n",
    "    check_file_type,\n",
    "    check_no_intersection_pattern_list,\n",
    "    combine_single_cell_data,\n",
    "    extract_molecular_data,\n",
    "    filter_raw_count_files,\n",
    "    get_h5_files_prefix,\n",
    "    get_tar_path,\n",
    "    execute_cancer_finder,\n",
    "    execute_sctab,\n",
    "    list_files_RAW,\n",
    "    split_gene_standardisation_by_reference,\n",
    "    unzip_genes_barcode_matrix_files_triplets,\n",
    ")\n",
    "from constants import LogStep"
   ]
  },
  {
   "cell_type": "code",
   "execution_count": null,
   "metadata": {
    "vscode": {
     "languageId": "plaintext"
    }
   },
   "outputs": [],
   "source": []
  },
  {
   "cell_type": "code",
   "execution_count": null,
   "metadata": {
    "vscode": {
     "languageId": "plaintext"
    }
   },
   "outputs": [],
   "source": []
  }
 ],
 "metadata": {
  "language_info": {
   "name": "python"
  }
 },
 "nbformat": 4,
 "nbformat_minor": 2
}
